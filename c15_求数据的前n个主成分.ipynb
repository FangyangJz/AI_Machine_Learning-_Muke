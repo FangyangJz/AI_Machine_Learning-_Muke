{
 "cells": [
  {
   "cell_type": "markdown",
   "metadata": {},
   "source": [
    "# 获得前n个主成分"
   ]
  },
  {
   "cell_type": "code",
   "execution_count": 1,
   "metadata": {},
   "outputs": [],
   "source": [
    "import numpy as np\n",
    "import matplotlib.pyplot as plt"
   ]
  },
  {
   "cell_type": "code",
   "execution_count": 2,
   "metadata": {},
   "outputs": [],
   "source": [
    "x = np.empty((100,2))\n",
    "x[:, 0] = np.random.uniform(0., 100., size=100)\n",
    "x[:, 1] = 0.75 * x[:, 0] + 3. + np.random.normal(0, 10., size=100)"
   ]
  },
  {
   "cell_type": "code",
   "execution_count": 3,
   "metadata": {},
   "outputs": [
    {
     "data": {
      "image/png": "[encoded data removed]",
      "text/plain": [
       "<matplotlib.figure.Figure at 0x19b4795b390>"
      ]
     },
     "metadata": {},
     "output_type": "display_data"
    }
   ],
   "source": [
    "plt.scatter(x[:,0], x[:,1])\n",
    "plt.show()"
   ]
  },
  {
   "cell_type": "code",
   "execution_count": 4,
   "metadata": {},
   "outputs": [],
   "source": [
    "def demean(x):\n",
    "    return x - np.mean(x, axis=0)  # 在列上求mean,即 样本 - 各个特征的均值\n",
    "\n",
    "x = demean(x)"
   ]
  },
  {
   "cell_type": "code",
   "execution_count": 5,
   "metadata": {},
   "outputs": [
    {
     "data": {
      "image/png": "[encoded data removed]",
      "text/plain": [
       "<matplotlib.figure.Figure at 0x19b479a22e8>"
      ]
     },
     "metadata": {},
     "output_type": "display_data"
    }
   ],
   "source": [
    "x_demean = demean(x)\n",
    "plt.scatter(x_demean[:,0], x_demean[:,1])\n",
    "plt.show()"
   ]
  },
  {
   "cell_type": "code",
   "execution_count": 8,
   "metadata": {},
   "outputs": [],
   "source": [
    "def f(w, x):\n",
    "    '''目标函数'''\n",
    "    return np.sum((x.dot(w))**2)/len(x)\n",
    "\n",
    "def df(w, x):\n",
    "    return x.T.dot(x.dot(w)) * 2./len(x)\n",
    "\n",
    "def direction(w):\n",
    "    '''将一个向量变成单位向量'''\n",
    "    return w / np.linalg.norm(w)  # norm 求向量的模(实际上是根据ord返回范数)\n",
    "\n",
    "def first_component(x, initial_w, eta, n_iters=1e4, epsilon=1e-8):\n",
    "    \n",
    "    w = direction(initial_w)\n",
    "    cur_iter = 0\n",
    "    \n",
    "    while cur_iter < n_iters:\n",
    "        gradient = df(w, x)\n",
    "        last_w = w  # 我们投影的时候是投影在方向向量w上面的,即需要将w变成单位方向向量\n",
    "        w = w + eta * gradient\n",
    "        w = direction(w)   # 注意归一化为单位方向向量 [1]\n",
    "        if (abs(f(w, x) - f(last_w, x)) < epsilon):\n",
    "            break\n",
    "        cur_iter += 1\n",
    "    \n",
    "    return w"
   ]
  },
  {
   "cell_type": "code",
   "execution_count": 9,
   "metadata": {},
   "outputs": [
    {
     "data": {
      "text/plain": [
       "array([0.79119843, 0.61155952])"
      ]
     },
     "execution_count": 9,
     "metadata": {},
     "output_type": "execute_result"
    }
   ],
   "source": [
    "initial_w = np.random.random(x.shape[1])\n",
    "eta = 0.01\n",
    "w = first_component(x, initial_w, eta)\n",
    "w"
   ]
  },
  {
   "cell_type": "markdown",
   "metadata": {},
   "source": [
    "#### $X^{(i)}\\cdot w = \\left \\| X_{project}^{(i)} \\right \\|$\n",
    "\n",
    "$X_{project}^{(i)}=\\left \\| X_{project}^{(i)} \\right \\| \\cdot w$\n",
    "\n",
    "第二主成分上的投影向量 $=X^{(i)} - X_{project}^{(i)}$"
   ]
  },
  {
   "cell_type": "code",
   "execution_count": 20,
   "metadata": {},
   "outputs": [
    {
     "data": {
      "text/plain": [
       "(100, 2)"
      ]
     },
     "execution_count": 20,
     "metadata": {},
     "output_type": "execute_result"
    }
   ],
   "source": [
    "# x2 = np.empty(x.shape)\n",
    "# for i in range(len(x)):\n",
    "#     x2[i] = x[i] - x[i].dot(w) * w\n",
    "\n",
    "# 求x2的向量化方法\n",
    "x2 = x - x.dot(w).reshape(-1,1) * w  #### 后面是(100,2) - (100,1)*(2, )\n",
    "# w.shape   ###(2, )\n",
    "# x.shape   ###(100, 2)\n",
    "# x.dot(w).reshape(-1, 1).shape  ###(100,1)\n",
    "# x2 = x - x.dot(w) * w   #### 这里报错是因为 (100,2) - (100,) *(2, )\n",
    "x2.shape   ####(100, 2)"
   ]
  },
  {
   "cell_type": "code",
   "execution_count": 11,
   "metadata": {},
   "outputs": [
    {
     "data": {
      "image/png": "[encoded data removed]",
      "text/plain": [
       "<matplotlib.figure.Figure at 0x19b48ade668>"
      ]
     },
     "metadata": {},
     "output_type": "display_data"
    }
   ],
   "source": [
    "plt.scatter(x2[:,0], x2[:,1])\n",
    "plt.show()"
   ]
  },
  {
   "cell_type": "code",
   "execution_count": 12,
   "metadata": {},
   "outputs": [
    {
     "data": {
      "text/plain": [
       "array([-0.61155478,  0.79120209])"
      ]
     },
     "execution_count": 12,
     "metadata": {},
     "output_type": "execute_result"
    }
   ],
   "source": [
    "# 复用第一主成分的代码, 求出第二主成分方向向量(即系数)\n",
    "w2 = first_component(x2, initial_w, eta)\n",
    "w2"
   ]
  },
  {
   "cell_type": "code",
   "execution_count": 13,
   "metadata": {},
   "outputs": [
    {
     "data": {
      "text/plain": [
       "5.989241233572695e-06"
      ]
     },
     "execution_count": 13,
     "metadata": {},
     "output_type": "execute_result"
    }
   ],
   "source": [
    "w.dot(w2)"
   ]
  },
  {
   "cell_type": "code",
   "execution_count": 21,
   "metadata": {},
   "outputs": [],
   "source": [
    "# 综合第一和第二主成分分析函数,给出泛化函数\n",
    "def first_n_components(n, x, eta=0.01, n_iters=1e4, epsilon=1e-8):\n",
    "    \n",
    "    x_pca = x.copy()\n",
    "    x_pca = demean(x_pca)\n",
    "    res =[]\n",
    "    for i in range(n):\n",
    "        initial_w = np.random.random(x_pca.shape[1])\n",
    "        w = first_component(x_pca, initial_w, eta)\n",
    "        res.append(w)\n",
    "        \n",
    "        x_pca = x_pca - x_pca.dot(w).reshape(-1,1) * w\n",
    "    \n",
    "    return res"
   ]
  },
  {
   "cell_type": "code",
   "execution_count": 22,
   "metadata": {},
   "outputs": [
    {
     "data": {
      "text/plain": [
       "[array([0.7911985 , 0.61155942]), array([-0.61155429,  0.79120247])]"
      ]
     },
     "execution_count": 22,
     "metadata": {},
     "output_type": "execute_result"
    }
   ],
   "source": [
    "first_n_components(2, x)  # 有几个特征就有几个主成分"
   ]
  },
  {
   "cell_type": "code",
   "execution_count": null,
   "metadata": {},
   "outputs": [],
   "source": []
  }
 ],
 "metadata": {
  "kernelspec": {
   "display_name": "Python 3",
   "language": "python",
   "name": "python3"
  },
  "language_info": {
   "codemirror_mode": {
    "name": "ipython",
    "version": 3
   },
   "file_extension": ".py",
   "mimetype": "text/x-python",
   "name": "python",
   "nbconvert_exporter": "python",
   "pygments_lexer": "ipython3",
   "version": "3.6.4"
  }
 },
 "nbformat": 4,
 "nbformat_minor": 2
}
