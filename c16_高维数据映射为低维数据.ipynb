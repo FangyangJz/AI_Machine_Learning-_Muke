{
 "cells": [
  {
   "cell_type": "markdown",
   "metadata": {},
   "source": [
    "$X=\\begin{pmatrix}\n",
    "X_1^{(1)} \\ \\ X_2^{(1)} \\ \\ X_3^{(1)}\\ \\ \\ldots \\ \\ X_n^{(1)}\\\\\n",
    "X_1^{(2)} \\ \\ X_2^{(2)} \\ \\ X_3^{(2)}\\ \\ \\ldots \\ \\ X_n^{(2)}\\\\\n",
    "X_1^{(3)} \\ \\ X_2^{(3)} \\ \\ X_3^{(3)}\\ \\ \\ldots \\ \\ X_n^{(3)}\\\\\n",
    "\\cdots \\ \\ \\ \\cdots \\ \\ \\ \\cdots \\ \\ \\ \\cdots \\ \\ \\ \\cdots \\\\\n",
    "X_1^{(m)} \\ \\ X_2^{(m)} \\ \\ X_3^{(m)}\\ \\ \\ldots \\ \\ X_n^{(m)}\\\\\n",
    "\\end{pmatrix}\\ \\ \\ \\   $\n",
    "$W_k=\\begin{pmatrix}\n",
    "W_1^{(1)} \\ \\ W_2^{(1)} \\ \\ W_3^{(1)}\\ \\ \\ldots \\ \\ W_n^{(1)}\\\\\n",
    "W_1^{(2)} \\ \\ W_2^{(2)} \\ \\ W_3^{(2)}\\ \\ \\ldots \\ \\ W_n^{(2)}\\\\\n",
    "W_1^{(3)} \\ \\ W_2^{(3)} \\ \\ W_3^{(3)}\\ \\ \\ldots \\ \\ W_n^{(3)}\\\\\n",
    "\\cdots \\ \\ \\ \\cdots \\ \\ \\ \\cdots \\ \\ \\ \\cdots \\ \\ \\ \\cdots \\\\\n",
    "W_1^{(k)} \\ \\ W_2^{(k)} \\ \\ W_3^{(k)}\\ \\ \\ldots \\ \\ W_n^{(k)}\\\\\n",
    "\\end{pmatrix}$"
   ]
  },
  {
   "cell_type": "markdown",
   "metadata": {},
   "source": [
    "$X \\cdot W_k^T = X_k$\n",
    "\n",
    "$(m*n) \\cdot (n*k)=m*k$"
   ]
  },
  {
   "cell_type": "markdown",
   "metadata": {},
   "source": [
    "#### 反向操作 $X_k \\cdot W_k=X_m$ 可以恢复成原始维度的矩阵,\n",
    "#### 但是$X_m$和$X$是不一样的, 因为数据在降为的过程中是有信息丢失的"
   ]
  },
  {
   "cell_type": "code",
   "execution_count": 1,
   "metadata": {},
   "outputs": [],
   "source": [
    "import numpy as np\n",
    "import matplotlib.pyplot as plt"
   ]
  },
  {
   "cell_type": "code",
   "execution_count": 2,
   "metadata": {},
   "outputs": [],
   "source": [
    "x = np.empty((100,2))\n",
    "x[:, 0] = np.random.uniform(0., 100., size=100)\n",
    "x[:, 1] = 0.75 * x[:,0] + 3. + np.random.normal(0, 10., size=100)"
   ]
  },
  {
   "cell_type": "code",
   "execution_count": 3,
   "metadata": {},
   "outputs": [
    {
     "data": {
      "text/plain": [
       "PCA(n_components = 2)"
      ]
     },
     "execution_count": 3,
     "metadata": {},
     "output_type": "execute_result"
    }
   ],
   "source": [
    "from c16_PCA import PCA\n",
    "\n",
    "pca = PCA(n_components=2)\n",
    "pca.fit(x)"
   ]
  },
  {
   "cell_type": "code",
   "execution_count": 4,
   "metadata": {},
   "outputs": [
    {
     "data": {
      "text/plain": [
       "array([[ 0.76961081,  0.63851327],\n",
       "       [ 0.63851906, -0.76960601]])"
      ]
     },
     "execution_count": 4,
     "metadata": {},
     "output_type": "execute_result"
    }
   ],
   "source": [
    "pca.components_"
   ]
  },
  {
   "cell_type": "markdown",
   "metadata": {},
   "source": [
    "#### 降维度操作"
   ]
  },
  {
   "cell_type": "code",
   "execution_count": 5,
   "metadata": {},
   "outputs": [
    {
     "data": {
      "text/plain": [
       "PCA(n_components = 1)"
      ]
     },
     "execution_count": 5,
     "metadata": {},
     "output_type": "execute_result"
    }
   ],
   "source": [
    "pca_1 = PCA(n_components=1)\n",
    "pca_1.fit(x)"
   ]
  },
  {
   "cell_type": "code",
   "execution_count": 6,
   "metadata": {},
   "outputs": [
    {
     "data": {
      "text/plain": [
       "(100, 1)"
      ]
     },
     "execution_count": 6,
     "metadata": {},
     "output_type": "execute_result"
    }
   ],
   "source": [
    "x_reduction = pca_1.transform(x)\n",
    "x_reduction.shape"
   ]
  },
  {
   "cell_type": "code",
   "execution_count": 8,
   "metadata": {},
   "outputs": [
    {
     "data": {
      "text/plain": [
       "(100, 2)"
      ]
     },
     "execution_count": 8,
     "metadata": {},
     "output_type": "execute_result"
    }
   ],
   "source": [
    "# 恢复\n",
    "x_restore = pca_1.inverse_transform(x_reduction)\n",
    "x_restore.shape"
   ]
  },
  {
   "cell_type": "code",
   "execution_count": 9,
   "metadata": {},
   "outputs": [
    {
     "data": {
      "image/png": "[encoded data removed]",
      "text/plain": [
       "<matplotlib.figure.Figure at 0x1a3772b25c0>"
      ]
     },
     "metadata": {},
     "output_type": "display_data"
    }
   ],
   "source": [
    "plt.scatter(x[:,0], x[:,1], color='b', alpha=0.5)\n",
    "plt.scatter(x_restore[:,0], x_restore[:,1], color='r', alpha=0.5)\n",
    "plt.show()"
   ]
  },
  {
   "cell_type": "markdown",
   "metadata": {},
   "source": [
    "# scikit-learn中的PCA"
   ]
  },
  {
   "cell_type": "code",
   "execution_count": 10,
   "metadata": {},
   "outputs": [],
   "source": [
    "from sklearn.decomposition import PCA"
   ]
  },
  {
   "cell_type": "code",
   "execution_count": 11,
   "metadata": {},
   "outputs": [
    {
     "data": {
      "text/plain": [
       "PCA(copy=True, iterated_power='auto', n_components=1, random_state=None,\n",
       "  svd_solver='auto', tol=0.0, whiten=False)"
      ]
     },
     "execution_count": 11,
     "metadata": {},
     "output_type": "execute_result"
    }
   ],
   "source": [
    "pca = PCA(n_components=1)\n",
    "pca.fit(x)"
   ]
  },
  {
   "cell_type": "code",
   "execution_count": 13,
   "metadata": {},
   "outputs": [
    {
     "data": {
      "text/plain": [
       "array([[-0.76961077, -0.63851333]])"
      ]
     },
     "execution_count": 13,
     "metadata": {},
     "output_type": "execute_result"
    }
   ],
   "source": [
    "pca.components_\n",
    "# 结果和我们自己封装的类的结果不一样,\n",
    "# 我们封装用的是梯度上升法求解\n",
    "# sklearn中是用其他方法, 所以结果的方向不一致"
   ]
  },
  {
   "cell_type": "code",
   "execution_count": 14,
   "metadata": {},
   "outputs": [
    {
     "data": {
      "text/plain": [
       "(100, 1)"
      ]
     },
     "execution_count": 14,
     "metadata": {},
     "output_type": "execute_result"
    }
   ],
   "source": [
    "x_reduction = pca.transform(x)\n",
    "x_reduction.shape"
   ]
  },
  {
   "cell_type": "code",
   "execution_count": 15,
   "metadata": {},
   "outputs": [
    {
     "data": {
      "text/plain": [
       "(100, 2)"
      ]
     },
     "execution_count": 15,
     "metadata": {},
     "output_type": "execute_result"
    }
   ],
   "source": [
    "x_restore = pca.inverse_transform(x_reduction)\n",
    "x_restore.shape"
   ]
  },
  {
   "cell_type": "code",
   "execution_count": 16,
   "metadata": {},
   "outputs": [
    {
     "data": {
      "image/png": "[encoded data removed]",
      "text/plain": [
       "<matplotlib.figure.Figure at 0x1a378c4a9b0>"
      ]
     },
     "metadata": {},
     "output_type": "display_data"
    }
   ],
   "source": [
    "plt.scatter(x[:,0], x[:,1], color='b', alpha=0.5)\n",
    "plt.scatter(x_restore[:,0], x_restore[:,1], color='r', alpha=0.5)\n",
    "plt.show()"
   ]
  },
  {
   "cell_type": "code",
   "execution_count": null,
   "metadata": {},
   "outputs": [],
   "source": []
  }
 ],
 "metadata": {
  "kernelspec": {
   "display_name": "Python 3",
   "language": "python",
   "name": "python3"
  },
  "language_info": {
   "codemirror_mode": {
    "name": "ipython",
    "version": 3
   },
   "file_extension": ".py",
   "mimetype": "text/x-python",
   "name": "python",
   "nbconvert_exporter": "python",
   "pygments_lexer": "ipython3",
   "version": "3.6.4"
  }
 },
 "nbformat": 4,
 "nbformat_minor": 2
}
